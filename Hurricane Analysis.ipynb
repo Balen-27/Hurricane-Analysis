{
 "cells": [
  {
   "cell_type": "markdown",
   "id": "58875e7a",
   "metadata": {},
   "source": [
    "# Hurricane Analysis"
   ]
  },
  {
   "cell_type": "markdown",
   "id": "9a2d9627",
   "metadata": {},
   "source": [
    "#### Overview"
   ]
  },
  {
   "cell_type": "markdown",
   "id": "633e5dde",
   "metadata": {},
   "source": [
    "This project is slightly different than others you have encountered thus far. Instead of a step-by-step tutorial, this project contains a series of open-ended requirements which describe the project you'll be building. There are many possible ways to correctly fulfill all of these requirements, and you should expect to use the internet, Codecademy, and other resources when you encounter a problem that you cannot easily solve."
   ]
  },
  {
   "cell_type": "markdown",
   "id": "52f01f07",
   "metadata": {},
   "source": [
    "#### Project Goals"
   ]
  },
  {
   "cell_type": "markdown",
   "id": "d9d06c43",
   "metadata": {},
   "source": [
    "You will work to write several functions that organize and manipulate data about Category 5 Hurricanes, the strongest hurricanes as rated by their wind speed. Each one of these functions will use a number of parameters, conditionals, lists, dictionaries, string manipulation, and return statements."
   ]
  },
  {
   "cell_type": "markdown",
   "id": "7fbb9fb5",
   "metadata": {},
   "source": [
    "#### Prerequisites"
   ]
  },
  {
   "cell_type": "markdown",
   "id": "4732a1e8",
   "metadata": {},
   "source": [
    "In order to complete this project, you should have completed the Loops and Dictionaries sections of the [Learn Python 3 Course](https://www.codecademy.com/learn/learn-python-3). This content is also covered in the [Data Scientist Career Path](https://www.codecademy.com/learn/paths/data-science/)."
   ]
  },
  {
   "cell_type": "markdown",
   "id": "1e924903",
   "metadata": {},
   "source": [
    "## Project Requirements"
   ]
  },
  {
   "cell_type": "markdown",
   "id": "35d6f74d",
   "metadata": {},
   "source": [
    "1. Hurricanes, also known as cyclones or typhoons, are one of the most powerful forces of nature on Earth. Due to climate change caused by human activity, the number and intensity of hurricanes has risen, calling for better preparation by the many communities that are devastated by them. As a concerned environmentalist, you want to look at data about the most powerful hurricanes that have occured. \n",
    "\n",
    "   Begin by looking at the `damages` list. The list contains strings representing the total cost in USD(`$`) caused by `34` category 5 hurricanes (wind speeds $\\ge$ 157 mph (252 km/h)) in the Atlantic region. For some of the hurricanes, damage data was not recorded (`\"Damages not recorded\"`), while the rest are written in the format `\"Prefix-B/M\"`, where `B` stands for billions (`1000000000`) and `M` stands for millions (`1000000`).\n",
    "   \n",
    "   Write a function that returns a new list of updated damages where the recorded data is converted to float values and the missing data is retained as `\"Damages not recorded\"`.\n",
    "   \n",
    "   Test your function with the data stored in `damages`."
   ]
  },
  {
   "cell_type": "code",
   "execution_count": 1,
   "id": "d8d3c50b",
   "metadata": {},
   "outputs": [
    {
     "name": "stdout",
     "output_type": "stream",
     "text": [
      "['Damages not recorded', 100000000.0, 'Damages not recorded', 40000000.0, 27900000.0, 5000000.0, 'Damages not recorded', 306000000.0, 2000000.0, 65800000.0, 326000000.0, 60300000.0, 208000000.0, 1420000000.0, 25400000.0, 'Damages not recorded', 1540000000.0, 1240000000.0, 7100000000.0, 10000000000.0, 26500000000.0, 6200000000.0, 5370000000.0, 23300000000.0, 1010000000.0, 125000000000.0, 12000000000.0, 29400000000.0, 1760000000.0, 720000000.0, 15100000000.0, 64800000000.0, 91600000000.0, 25100000000.0]\n"
     ]
    }
   ],
   "source": [
    "# damages (USD($)) of hurricanes\n",
    "damages = ['Damages not recorded', '100M', 'Damages not recorded', '40M',\n",
    "          '27.9M', '5M', 'Damages not recorded', '306M', '2M', '65.8M',\n",
    "          '326M', '60.3M', '208M', '1.42B', '25.4M', 'Damages not recorded',\n",
    "          '1.54B', '1.24B', '7.1B', '10B', '26.5B', '6.2B', '5.37B', '23.3B',\n",
    "          '1.01B', '125B', '12B', '29.4B', '1.76B', '720M', '15.1B', '64.8B',\n",
    "          '91.6B', '25.1B']\n",
    "\n",
    "# 1\n",
    "# Update Recorded Damages\n",
    "conversion = {\"M\": 1000000,\n",
    "             \"B\": 1000000000}\n",
    "\n",
    "# test function by updating damages\n",
    "def updating_damages(list_of_damages):\n",
    "    updated_damages_list = []\n",
    "    for damage in list_of_damages:\n",
    "        if damage == \"Damages not recorded\":\n",
    "            updated_damages_list.append(damage)\n",
    "        else:\n",
    "            if damage[-1:] == 'B':\n",
    "                damage_number = float(damage[:-1])\n",
    "                full_damage_value = damage_number * conversion[\"B\"]\n",
    "                updated_damages_list.append(full_damage_value)\n",
    "            else:\n",
    "                damage_number = float(damage[:-1])\n",
    "                full_damage_value = damage_number * conversion[\"M\"]\n",
    "                updated_damages_list.append(full_damage_value)\n",
    "    return updated_damages_list\n",
    "\n",
    "updated_damages = updating_damages(damages)\n",
    "print(updated_damages)"
   ]
  },
  {
   "cell_type": "markdown",
   "id": "36ac47b6",
   "metadata": {},
   "source": [
    "2. Additional data collected on the `34` strongest Atlantic hurricanes are provided in a series of lists. The data includes:\n",
    "   - `names`: names of the hurricanes\n",
    "   - `months`: months in which the hurricanes occurred\n",
    "   - `years`: years in which the hurricanes occurred\n",
    "   - `max_sustained_winds`: maximum sustained winds (miles per hour) of the hurricanes\n",
    "   - `areas_affected`: list of different areas affected by each of the hurricanes\n",
    "   - `deaths`: total number of deaths caused by each of the hurricanes\n",
    "   \n",
    "   The data is organized such that the data at each index, from `0` to `33`, corresponds to the same hurricane.\n",
    "   \n",
    "   For example, `names[0]` yields the \"Cuba I\" hurricane, which occurred in `months[0]` (October) `years[0]` (1924).\n",
    "   \n",
    "   Write a function that constructs a dictionary made out of the lists, where the keys of the dictionary are the names of the hurricanes, and the values are dictionaries themselves containing a key for each piece of data (`Name`, `Month`, `Year`, `Max Sustained Wind`, `Areas Affected`, `Damage`, `Death`) about the hurricane.\n",
    "   \n",
    "   Thus the key `\"Cuba I\"` would have the value: `{'Name': 'Cuba I', 'Month': 'October', 'Year': 1924, 'Max Sustained Wind': 165, 'Areas Affected': ['Central America', 'Mexico', 'Cuba', 'Florida', 'The Bahamas'], 'Damage': 'Damages not recorded', 'Deaths': 90}`.\n",
    "   \n",
    "   Test your function on the lists of data provided."
   ]
  },
  {
   "cell_type": "code",
   "execution_count": 2,
   "id": "641aa113",
   "metadata": {},
   "outputs": [],
   "source": [
    "# names of hurricanes\n",
    "names = ['Cuba I', 'San Felipe II Okeechobee', 'Bahamas', 'Cuba II', 'CubaBrownsville', 'Tampico', 'Labor Day', 'New England', 'Carol', 'Janet', 'Carla', 'Hattie', 'Beulah', 'Camille', 'Edith', 'Anita', 'David', 'Allen', 'Gilbert', 'Hugo', 'Andrew', 'Mitch', 'Isabel', 'Ivan', 'Emily', 'Katrina', 'Rita', 'Wilma', 'Dean', 'Felix', 'Matthew', 'Irma', 'Maria', 'Michael']\n",
    "\n",
    "# months of hurricanes\n",
    "months = ['October', 'September', 'September', 'November', 'August', 'September', 'September', 'September', 'September', 'September', 'September', 'October', 'September', 'August', 'September', 'September', 'August', 'August', 'September', 'September', 'August', 'October', 'September', 'September', 'July', 'August', 'September', 'October', 'August', 'September', 'October', 'September', 'September', 'October']\n",
    "\n",
    "# years of hurricanes\n",
    "years = [1924, 1928, 1932, 1932, 1933, 1933, 1935, 1938, 1953, 1955, 1961, 1961, 1967, 1969, 1971, 1977, 1979, 1980, 1988, 1989, 1992, 1998, 2003, 2004, 2005, 2005, 2005, 2005, 2007, 2007, 2016, 2017, 2017, 2018]\n",
    "\n",
    "# maximum sustained winds (mph) of hurricanes\n",
    "max_sustained_winds = [165, 160, 160, 175, 160, 160, 185, 160, 160, 175, 175, 160, 160, 175, 160, 175, 175, 190, 185, 160, 175, 180, 165, 165, 160, 175, 180, 185, 175, 175, 165, 180, 175, 160]\n",
    "\n",
    "# areas affected by each hurricane\n",
    "areas_affected = [['Central America', 'Mexico', 'Cuba', 'Florida', 'The Bahamas'], ['Lesser Antilles', 'The Bahamas', 'United States East Coast', 'Atlantic Canada'], ['The Bahamas', 'Northeastern United States'], ['Lesser Antilles', 'Jamaica', 'Cayman Islands', 'Cuba', 'The Bahamas', 'Bermuda'], ['The Bahamas', 'Cuba', 'Florida', 'Texas', 'Tamaulipas'], ['Jamaica', 'Yucatn Peninsula'], ['The Bahamas', 'Florida', 'Georgia', 'The Carolinas', 'Virginia'], ['Southeastern United States', 'Northeastern United States', 'Southwestern Quebec'], ['Bermuda', 'New England', 'Atlantic Canada'], ['Lesser Antilles', 'Central America'], ['Texas', 'Louisiana', 'Midwestern United States'], ['Central America'], ['The Caribbean', 'Mexico', 'Texas'], ['Cuba', 'United States Gulf Coast'], ['The Caribbean', 'Central America', 'Mexico', 'United States Gulf Coast'], ['Mexico'], ['The Caribbean', 'United States East coast'], ['The Caribbean', 'Yucatn Peninsula', 'Mexico', 'South Texas'], ['Jamaica', 'Venezuela', 'Central America', 'Hispaniola', 'Mexico'], ['The Caribbean', 'United States East Coast'], ['The Bahamas', 'Florida', 'United States Gulf Coast'], ['Central America', 'Yucatn Peninsula', 'South Florida'], ['Greater Antilles', 'Bahamas', 'Eastern United States', 'Ontario'], ['The Caribbean', 'Venezuela', 'United States Gulf Coast'], ['Windward Islands', 'Jamaica', 'Mexico', 'Texas'], ['Bahamas', 'United States Gulf Coast'], ['Cuba', 'United States Gulf Coast'], ['Greater Antilles', 'Central America', 'Florida'], ['The Caribbean', 'Central America'], ['Nicaragua', 'Honduras'], ['Antilles', 'Venezuela', 'Colombia', 'United States East Coast', 'Atlantic Canada'], ['Cape Verde', 'The Caribbean', 'British Virgin Islands', 'U.S. Virgin Islands', 'Cuba', 'Florida'], ['Lesser Antilles', 'Virgin Islands', 'Puerto Rico', 'Dominican Republic', 'Turks and Caicos Islands'], ['Central America', 'United States Gulf Coast (especially Florida Panhandle)']]\n",
    "\n",
    "# damages (USD($)) of hurricanes\n",
    "damages = ['Damages not recorded', '100M', 'Damages not recorded', '40M', '27.9M', '5M', 'Damages not recorded', '306M', '2M', '65.8M', '326M', '60.3M', '208M', '1.42B', '25.4M', 'Damages not recorded', '1.54B', '1.24B', '7.1B', '10B', '26.5B', '6.2B', '5.37B', '23.3B', '1.01B', '125B', '12B', '29.4B', '1.76B', '720M', '15.1B', '64.8B', '91.6B', '25.1B']\n",
    "\n",
    "# deaths for each hurricane\n",
    "deaths = [90,4000,16,3103,179,184,408,682,5,1023,43,319,688,259,37,11,2068,269,318,107,65,19325,51,124,17,1836,125,87,45,133,603,138,3057,74]\n",
    "\n",
    "# 2\n",
    "# Create a Table\n",
    "\n",
    "# Create and view the hurricanes dictionary\n"
   ]
  },
  {
   "cell_type": "code",
   "execution_count": 3,
   "id": "d7dba458",
   "metadata": {
    "scrolled": true
   },
   "outputs": [],
   "source": [
    "def hurricane_by_name(names, months, years, max_winds, affected_areas, damages, deaths):\n",
    "    dictionary_names = {}\n",
    "    for i in range(len(names)):\n",
    "        dictionary_names[names[i]] = {'Name': names[i], \"Month\": months[i], \"Year\": years[i], \"Max sustained wind\": max_winds[i], \"Areas affected\": affected_areas[i], \"Damages\": damages[i], \"Deaths\": deaths[i]}\n",
    "    return dictionary_names\n",
    "\n",
    "names_of_hurricanes = hurricane_by_name(names, months, years, max_sustained_winds, areas_affected, damages, deaths)"
   ]
  },
  {
   "cell_type": "code",
   "execution_count": 4,
   "id": "e6b2c54b",
   "metadata": {},
   "outputs": [
    {
     "name": "stdout",
     "output_type": "stream",
     "text": [
      "Cuba I {'Name': 'Cuba I', 'Month': 'October', 'Year': 1924, 'Max sustained wind': 165, 'Areas affected': ['Central America', 'Mexico', 'Cuba', 'Florida', 'The Bahamas'], 'Damages': 'Damages not recorded', 'Deaths': 90}\n",
      "\n",
      "\n",
      "San Felipe II Okeechobee {'Name': 'San Felipe II Okeechobee', 'Month': 'September', 'Year': 1928, 'Max sustained wind': 160, 'Areas affected': ['Lesser Antilles', 'The Bahamas', 'United States East Coast', 'Atlantic Canada'], 'Damages': '100M', 'Deaths': 4000}\n",
      "\n",
      "\n",
      "Bahamas {'Name': 'Bahamas', 'Month': 'September', 'Year': 1932, 'Max sustained wind': 160, 'Areas affected': ['The Bahamas', 'Northeastern United States'], 'Damages': 'Damages not recorded', 'Deaths': 16}\n",
      "\n",
      "\n",
      "Cuba II {'Name': 'Cuba II', 'Month': 'November', 'Year': 1932, 'Max sustained wind': 175, 'Areas affected': ['Lesser Antilles', 'Jamaica', 'Cayman Islands', 'Cuba', 'The Bahamas', 'Bermuda'], 'Damages': '40M', 'Deaths': 3103}\n",
      "\n",
      "\n",
      "CubaBrownsville {'Name': 'CubaBrownsville', 'Month': 'August', 'Year': 1933, 'Max sustained wind': 160, 'Areas affected': ['The Bahamas', 'Cuba', 'Florida', 'Texas', 'Tamaulipas'], 'Damages': '27.9M', 'Deaths': 179}\n",
      "\n",
      "\n",
      "Tampico {'Name': 'Tampico', 'Month': 'September', 'Year': 1933, 'Max sustained wind': 160, 'Areas affected': ['Jamaica', 'Yucatn Peninsula'], 'Damages': '5M', 'Deaths': 184}\n",
      "\n",
      "\n",
      "Labor Day {'Name': 'Labor Day', 'Month': 'September', 'Year': 1935, 'Max sustained wind': 185, 'Areas affected': ['The Bahamas', 'Florida', 'Georgia', 'The Carolinas', 'Virginia'], 'Damages': 'Damages not recorded', 'Deaths': 408}\n",
      "\n",
      "\n",
      "New England {'Name': 'New England', 'Month': 'September', 'Year': 1938, 'Max sustained wind': 160, 'Areas affected': ['Southeastern United States', 'Northeastern United States', 'Southwestern Quebec'], 'Damages': '306M', 'Deaths': 682}\n",
      "\n",
      "\n",
      "Carol {'Name': 'Carol', 'Month': 'September', 'Year': 1953, 'Max sustained wind': 160, 'Areas affected': ['Bermuda', 'New England', 'Atlantic Canada'], 'Damages': '2M', 'Deaths': 5}\n",
      "\n",
      "\n",
      "Janet {'Name': 'Janet', 'Month': 'September', 'Year': 1955, 'Max sustained wind': 175, 'Areas affected': ['Lesser Antilles', 'Central America'], 'Damages': '65.8M', 'Deaths': 1023}\n",
      "\n",
      "\n",
      "Carla {'Name': 'Carla', 'Month': 'September', 'Year': 1961, 'Max sustained wind': 175, 'Areas affected': ['Texas', 'Louisiana', 'Midwestern United States'], 'Damages': '326M', 'Deaths': 43}\n",
      "\n",
      "\n",
      "Hattie {'Name': 'Hattie', 'Month': 'October', 'Year': 1961, 'Max sustained wind': 160, 'Areas affected': ['Central America'], 'Damages': '60.3M', 'Deaths': 319}\n",
      "\n",
      "\n",
      "Beulah {'Name': 'Beulah', 'Month': 'September', 'Year': 1967, 'Max sustained wind': 160, 'Areas affected': ['The Caribbean', 'Mexico', 'Texas'], 'Damages': '208M', 'Deaths': 688}\n",
      "\n",
      "\n",
      "Camille {'Name': 'Camille', 'Month': 'August', 'Year': 1969, 'Max sustained wind': 175, 'Areas affected': ['Cuba', 'United States Gulf Coast'], 'Damages': '1.42B', 'Deaths': 259}\n",
      "\n",
      "\n",
      "Edith {'Name': 'Edith', 'Month': 'September', 'Year': 1971, 'Max sustained wind': 160, 'Areas affected': ['The Caribbean', 'Central America', 'Mexico', 'United States Gulf Coast'], 'Damages': '25.4M', 'Deaths': 37}\n",
      "\n",
      "\n",
      "Anita {'Name': 'Anita', 'Month': 'September', 'Year': 1977, 'Max sustained wind': 175, 'Areas affected': ['Mexico'], 'Damages': 'Damages not recorded', 'Deaths': 11}\n",
      "\n",
      "\n",
      "David {'Name': 'David', 'Month': 'August', 'Year': 1979, 'Max sustained wind': 175, 'Areas affected': ['The Caribbean', 'United States East coast'], 'Damages': '1.54B', 'Deaths': 2068}\n",
      "\n",
      "\n",
      "Allen {'Name': 'Allen', 'Month': 'August', 'Year': 1980, 'Max sustained wind': 190, 'Areas affected': ['The Caribbean', 'Yucatn Peninsula', 'Mexico', 'South Texas'], 'Damages': '1.24B', 'Deaths': 269}\n",
      "\n",
      "\n",
      "Gilbert {'Name': 'Gilbert', 'Month': 'September', 'Year': 1988, 'Max sustained wind': 185, 'Areas affected': ['Jamaica', 'Venezuela', 'Central America', 'Hispaniola', 'Mexico'], 'Damages': '7.1B', 'Deaths': 318}\n",
      "\n",
      "\n",
      "Hugo {'Name': 'Hugo', 'Month': 'September', 'Year': 1989, 'Max sustained wind': 160, 'Areas affected': ['The Caribbean', 'United States East Coast'], 'Damages': '10B', 'Deaths': 107}\n",
      "\n",
      "\n",
      "Andrew {'Name': 'Andrew', 'Month': 'August', 'Year': 1992, 'Max sustained wind': 175, 'Areas affected': ['The Bahamas', 'Florida', 'United States Gulf Coast'], 'Damages': '26.5B', 'Deaths': 65}\n",
      "\n",
      "\n",
      "Mitch {'Name': 'Mitch', 'Month': 'October', 'Year': 1998, 'Max sustained wind': 180, 'Areas affected': ['Central America', 'Yucatn Peninsula', 'South Florida'], 'Damages': '6.2B', 'Deaths': 19325}\n",
      "\n",
      "\n",
      "Isabel {'Name': 'Isabel', 'Month': 'September', 'Year': 2003, 'Max sustained wind': 165, 'Areas affected': ['Greater Antilles', 'Bahamas', 'Eastern United States', 'Ontario'], 'Damages': '5.37B', 'Deaths': 51}\n",
      "\n",
      "\n",
      "Ivan {'Name': 'Ivan', 'Month': 'September', 'Year': 2004, 'Max sustained wind': 165, 'Areas affected': ['The Caribbean', 'Venezuela', 'United States Gulf Coast'], 'Damages': '23.3B', 'Deaths': 124}\n",
      "\n",
      "\n",
      "Emily {'Name': 'Emily', 'Month': 'July', 'Year': 2005, 'Max sustained wind': 160, 'Areas affected': ['Windward Islands', 'Jamaica', 'Mexico', 'Texas'], 'Damages': '1.01B', 'Deaths': 17}\n",
      "\n",
      "\n",
      "Katrina {'Name': 'Katrina', 'Month': 'August', 'Year': 2005, 'Max sustained wind': 175, 'Areas affected': ['Bahamas', 'United States Gulf Coast'], 'Damages': '125B', 'Deaths': 1836}\n",
      "\n",
      "\n",
      "Rita {'Name': 'Rita', 'Month': 'September', 'Year': 2005, 'Max sustained wind': 180, 'Areas affected': ['Cuba', 'United States Gulf Coast'], 'Damages': '12B', 'Deaths': 125}\n",
      "\n",
      "\n",
      "Wilma {'Name': 'Wilma', 'Month': 'October', 'Year': 2005, 'Max sustained wind': 185, 'Areas affected': ['Greater Antilles', 'Central America', 'Florida'], 'Damages': '29.4B', 'Deaths': 87}\n",
      "\n",
      "\n",
      "Dean {'Name': 'Dean', 'Month': 'August', 'Year': 2007, 'Max sustained wind': 175, 'Areas affected': ['The Caribbean', 'Central America'], 'Damages': '1.76B', 'Deaths': 45}\n",
      "\n",
      "\n",
      "Felix {'Name': 'Felix', 'Month': 'September', 'Year': 2007, 'Max sustained wind': 175, 'Areas affected': ['Nicaragua', 'Honduras'], 'Damages': '720M', 'Deaths': 133}\n",
      "\n",
      "\n",
      "Matthew {'Name': 'Matthew', 'Month': 'October', 'Year': 2016, 'Max sustained wind': 165, 'Areas affected': ['Antilles', 'Venezuela', 'Colombia', 'United States East Coast', 'Atlantic Canada'], 'Damages': '15.1B', 'Deaths': 603}\n",
      "\n",
      "\n",
      "Irma {'Name': 'Irma', 'Month': 'September', 'Year': 2017, 'Max sustained wind': 180, 'Areas affected': ['Cape Verde', 'The Caribbean', 'British Virgin Islands', 'U.S. Virgin Islands', 'Cuba', 'Florida'], 'Damages': '64.8B', 'Deaths': 138}\n",
      "\n",
      "\n",
      "Maria {'Name': 'Maria', 'Month': 'September', 'Year': 2017, 'Max sustained wind': 175, 'Areas affected': ['Lesser Antilles', 'Virgin Islands', 'Puerto Rico', 'Dominican Republic', 'Turks and Caicos Islands'], 'Damages': '91.6B', 'Deaths': 3057}\n",
      "\n",
      "\n",
      "Michael {'Name': 'Michael', 'Month': 'October', 'Year': 2018, 'Max sustained wind': 160, 'Areas affected': ['Central America', 'United States Gulf Coast (especially Florida Panhandle)'], 'Damages': '25.1B', 'Deaths': 74}\n",
      "\n",
      "\n"
     ]
    }
   ],
   "source": [
    "for name, value in names_of_hurricanes.items():\n",
    "    print(name, value)\n",
    "    print('\\n')"
   ]
  },
  {
   "cell_type": "markdown",
   "id": "6d0a1933",
   "metadata": {},
   "source": [
    "3. In addition to organizing the hurricanes in a dictionary with names as the key, you want to be able to organize the hurricanes by year.\n",
    "\n",
    "   Write a function that converts the current dictionary of hurricanes to a new dictionary, where the keys are years and the values are lists containing a dictionary for each hurricane that occurred in that year.\n",
    "   \n",
    "   For example, the key `1932` would yield the value: `[{'Name': 'Bahamas', 'Month': 'September', 'Year': 1932, 'Max Sustained Wind': 160, 'Areas Affected': ['The Bahamas', 'Northeastern United States'], 'Damage': 'Damage not recorded', 'Deaths': 16}, {'Name': 'Cuba II', 'Month': 'November', 'Year': 1932, 'Max Sustained Wind': 175, 'Areas Affected': ['Lesser Antilles', 'Jamaica', 'Cayman Islands', 'Cuba', 'The Bahamas', 'Bermuda'], 'Damage': 40000000.0, 'Deaths': 3103}]`.\n",
    "   \n",
    "   Test your function on your hurricane dictionary."
   ]
  },
  {
   "cell_type": "code",
   "execution_count": 5,
   "id": "1ef2edea",
   "metadata": {},
   "outputs": [],
   "source": [
    "# 3\n",
    "# Organizing by Year\n",
    "\n",
    "# create a new dictionary of hurricanes with year and key\n",
    "def hurricane_by_year(years):\n",
    "    years_set = set(years)\n",
    "    years_list = list(years_set)\n",
    "    sorted(years_list)\n",
    "    dictionary_of_years = {}\n",
    "    for i in range(len(years_set)):\n",
    "        dictionary_of_years[years_list[i]] = []\n",
    "    i = 0\n",
    "    for year in years:\n",
    "        dictionary_of_years[year].append({'Name': names[i], \"Month\": months[i], \"Year\": years[i], \"Max sustained wind\": max_sustained_winds[i], \"Areas affected\": areas_affected[i], \"Damages\": damages[i], \"Deaths\": deaths[i]})\n",
    "        i += 1\n",
    "    return dictionary_of_years"
   ]
  },
  {
   "cell_type": "code",
   "execution_count": 6,
   "id": "30fdbbf6",
   "metadata": {
    "scrolled": true
   },
   "outputs": [
    {
     "name": "stdout",
     "output_type": "stream",
     "text": [
      "[{'Name': 'Bahamas', 'Month': 'September', 'Year': 1932, 'Max sustained wind': 160, 'Areas affected': ['The Bahamas', 'Northeastern United States'], 'Damages': 'Damages not recorded', 'Deaths': 16}, {'Name': 'Cuba II', 'Month': 'November', 'Year': 1932, 'Max sustained wind': 175, 'Areas affected': ['Lesser Antilles', 'Jamaica', 'Cayman Islands', 'Cuba', 'The Bahamas', 'Bermuda'], 'Damages': '40M', 'Deaths': 3103}]\n"
     ]
    }
   ],
   "source": [
    "dictionary_of_years = hurricane_by_year(years)\n",
    "# for dic, value in dictionary_of_years.items():\n",
    "#     print(dic, value)\n",
    "#     print('\\n\\n')\n",
    "print(dictionary_of_years[1932])"
   ]
  },
  {
   "cell_type": "markdown",
   "id": "66973f77",
   "metadata": {},
   "source": [
    "4. You believe that knowing how often each of the areas of the Atlantic are affected by these strong hurricanes is important for making preparations for future hurricanes.\n",
    "\n",
    "   Write a function that counts how often each area is listed as an affected area of a hurricane. Store and return the results in a dictionary where the keys are the affected areas and the values are counts of how many times the areas were affected.\n",
    "   \n",
    "   Test your function on your hurricane dictionary."
   ]
  },
  {
   "cell_type": "code",
   "execution_count": 7,
   "id": "bff86f77",
   "metadata": {
    "scrolled": false
   },
   "outputs": [
    {
     "name": "stdout",
     "output_type": "stream",
     "text": [
      "{'Central America': 9, 'Mexico': 7, 'Cuba': 6, 'Florida': 6, 'The Bahamas': 7, 'Lesser Antilles': 4, 'United States East Coast': 3, 'Atlantic Canada': 3, 'Northeastern United States': 2, 'Jamaica': 4, 'Cayman Islands': 1, 'Bermuda': 2, 'Texas': 4, 'Tamaulipas': 1, 'Yucatn Peninsula': 3, 'Georgia': 1, 'The Carolinas': 1, 'Virginia': 1, 'Southeastern United States': 1, 'Southwestern Quebec': 1, 'New England': 1, 'Louisiana': 1, 'Midwestern United States': 1, 'The Caribbean': 8, 'United States Gulf Coast': 6, 'United States East coast': 1, 'South Texas': 1, 'Venezuela': 3, 'Hispaniola': 1, 'South Florida': 1, 'Greater Antilles': 2, 'Bahamas': 2, 'Eastern United States': 1, 'Ontario': 1, 'Windward Islands': 1, 'Nicaragua': 1, 'Honduras': 1, 'Antilles': 1, 'Colombia': 1, 'Cape Verde': 1, 'British Virgin Islands': 1, 'U.S. Virgin Islands': 1, 'Virgin Islands': 1, 'Puerto Rico': 1, 'Dominican Republic': 1, 'Turks and Caicos Islands': 1, 'United States Gulf Coast (especially Florida Panhandle)': 1}\n"
     ]
    }
   ],
   "source": [
    "# 4\n",
    "# Counting Damaged Areas\n",
    "# create dictionary of areas to store the number of hurricanes involved in\n",
    "\n",
    "def most_affect_areas(areas):\n",
    "    dictionary_of_each_affect_area = {}\n",
    "    for areas in areas_affected:\n",
    "        for area in areas:\n",
    "            dictionary_of_each_affect_area[area] = 0\n",
    "    # going through each area in the lists of the affected areas and checking if they are in the dict, if they are in there then the count will be increased by 1\n",
    "    for areas in areas_affected:\n",
    "        for area in areas:\n",
    "            if area in dictionary_of_each_affect_area:\n",
    "                dictionary_of_each_affect_area[area] += 1\n",
    "    return dictionary_of_each_affect_area\n",
    "\n",
    "affected_area_dictionary = most_affect_areas(areas_affected)\n",
    "print(affected_area_dictionary)"
   ]
  },
  {
   "cell_type": "markdown",
   "id": "e015eeb3",
   "metadata": {},
   "source": [
    "5. Write a function that finds the area affected by the most hurricanes, and how often it was hit.\n",
    "\n",
    "   Test your function on your affected area dictionary."
   ]
  },
  {
   "cell_type": "code",
   "execution_count": 8,
   "id": "643c73f9",
   "metadata": {},
   "outputs": [
    {
     "name": "stdout",
     "output_type": "stream",
     "text": [
      "Central America: 9\n"
     ]
    }
   ],
   "source": [
    "# 5\n",
    "# Calculating Maximum Hurricane Count\n",
    "def find_max_hurricane_count(affected_areas_dict):\n",
    "    dictionary_of_each_affect_area_count = {}\n",
    "    max_key = max(affected_areas_dict, key=affected_areas_dict.get)\n",
    "    max_value = affected_areas_dict[max_key]\n",
    "    return max_key, max_value\n",
    "# find most frequently affected area and the number of hurricanes involved in\n",
    "max_area, max_area_count = find_max_hurricane_count(affected_area_dictionary)\n",
    "print(f\"{max_area}: {max_area_count}\")"
   ]
  },
  {
   "cell_type": "markdown",
   "id": "4c120f59",
   "metadata": {},
   "source": [
    "6. Write a function that finds the hurricane that caused the greatest number of deaths, and how many deaths it caused.\n",
    "\n",
    "   Test your function on your hurricane dictionary."
   ]
  },
  {
   "cell_type": "code",
   "execution_count": 9,
   "id": "ced02448",
   "metadata": {},
   "outputs": [
    {
     "name": "stdout",
     "output_type": "stream",
     "text": [
      "The hurricane with the most deaths is Mitch with a death toll of 19325 deaths.\n"
     ]
    }
   ],
   "source": [
    "# 6\n",
    "# Calculating the Deadliest Hurricane\n",
    "def find_most_deaths(deaths):\n",
    "    most_deaths = max(deaths)\n",
    "    index_most_deaths = deaths.index(most_deaths)\n",
    "    most_deaths_cane = names[index_most_deaths]\n",
    "    return f\"The hurricane with the most deaths is {most_deaths_cane} with a death toll of {most_deaths} deaths.\"\n",
    "# find highest mortality hurricane and the number of deaths\n",
    "print(find_most_deaths(deaths))"
   ]
  },
  {
   "cell_type": "markdown",
   "id": "9ddd39b0",
   "metadata": {},
   "source": [
    "7. Just as hurricanes are rated by their windspeed, you want to try rating hurricanes based on other metrics.\n",
    "\n",
    "   Write a function that rates hurricanes on a mortality scale according to the following ratings, where the key is the rating and the value is the upper bound of deaths for that rating.\n",
    "   \n",
    "   ```py\n",
    "   mortality_scale = {0: 0,\n",
    "   1: 100,\n",
    "   2: 500,\n",
    "   3: 1000,\n",
    "   4: 10000}\n",
    "   ```\n",
    "   \n",
    "   For example, a hurricane with a `1` mortality rating would have resulted in greater than `0` but less than or equal to `100` deaths. A hurricane with a `5` mortality would have resulted in greater than `10000` deaths.\n",
    "   \n",
    "   Store the hurricanes in a new dictionary where the keys are the mortaility ratings and the values are lists containing a dictionary for each hurricane that falls into that mortality rating.\n",
    "   \n",
    "   Test your function on your hurricane dictionary."
   ]
  },
  {
   "cell_type": "code",
   "execution_count": 10,
   "id": "9eea4dc7",
   "metadata": {},
   "outputs": [],
   "source": [
    "# 7\n",
    "# Rating Hurricanes by Mortality\n",
    "def mortality_rating(deaths):\n",
    "    mortality_rating_dict = {}\n",
    "    for i in range(6):\n",
    "        mortality_rating_dict[i] = []\n",
    "    i = 0\n",
    "    for death in deaths:\n",
    "        if death == 0:\n",
    "            mortality_rating_dict[0].append({'Name': names[i], \"Month\": months[i], \"Year\": years[i], \"Max sustained wind\": max_sustained_winds[i], \"Areas affected\": areas_affected[i], \"Damages\": damages[i], \"Deaths\": deaths[i]})\n",
    "        elif 0 < death < 100:\n",
    "            mortality_rating_dict[1].append({'Name': names[i], \"Month\": months[i], \"Year\": years[i], \"Max sustained wind\": max_sustained_winds[i], \"Areas affected\": areas_affected[i], \"Damages\": damages[i], \"Deaths\": deaths[i]})\n",
    "        elif 100 < death < 500:\n",
    "            mortality_rating_dict[2].append({'Name': names[i], \"Month\": months[i], \"Year\": years[i], \"Max sustained wind\": max_sustained_winds[i], \"Areas affected\": areas_affected[i], \"Damages\": damages[i], \"Deaths\": deaths[i]})\n",
    "        elif 500 < death < 1000:\n",
    "            mortality_rating_dict[3].append({'Name': names[i], \"Month\": months[i], \"Year\": years[i], \"Max sustained wind\": max_sustained_winds[i], \"Areas affected\": areas_affected[i], \"Damages\": damages[i], \"Deaths\": deaths[i]})\n",
    "        elif 1000 < death < 10000:\n",
    "            mortality_rating_dict[4].append({'Name': names[i], \"Month\": months[i], \"Year\": years[i], \"Max sustained wind\": max_sustained_winds[i], \"Areas affected\": areas_affected[i], \"Damages\": damages[i], \"Deaths\": deaths[i]})\n",
    "        else:\n",
    "            mortality_rating_dict[5].append({'Name': names[i], \"Month\": months[i], \"Year\": years[i], \"Max sustained wind\": max_sustained_winds[i], \"Areas affected\": areas_affected[i], \"Damages\": damages[i], \"Deaths\": deaths[i]})\n",
    "        i += 1\n",
    "    return mortality_rating_dict\n",
    "# categorize hurricanes in new dictionary with mortality severity as key\n",
    "# mortality_rating(deaths)"
   ]
  },
  {
   "cell_type": "code",
   "execution_count": 11,
   "id": "f84302d7",
   "metadata": {
    "scrolled": true
   },
   "outputs": [
    {
     "name": "stdout",
     "output_type": "stream",
     "text": [
      "[{'Name': 'New England', 'Month': 'September', 'Year': 1938, 'Max sustained wind': 160, 'Areas affected': ['Southeastern United States', 'Northeastern United States', 'Southwestern Quebec'], 'Damages': '306M', 'Deaths': 682}, {'Name': 'Beulah', 'Month': 'September', 'Year': 1967, 'Max sustained wind': 160, 'Areas affected': ['The Caribbean', 'Mexico', 'Texas'], 'Damages': '208M', 'Deaths': 688}, {'Name': 'Matthew', 'Month': 'October', 'Year': 2016, 'Max sustained wind': 165, 'Areas affected': ['Antilles', 'Venezuela', 'Colombia', 'United States East Coast', 'Atlantic Canada'], 'Damages': '15.1B', 'Deaths': 603}]\n"
     ]
    }
   ],
   "source": [
    "mortality = mortality_rating(deaths)\n",
    "print(mortality[3])"
   ]
  },
  {
   "cell_type": "markdown",
   "id": "199b0e1c",
   "metadata": {},
   "source": [
    "8. Write a function that finds the hurricane that caused the greatest damage, and how costly it was.\n",
    "\n",
    "   Test your function on your hurricane dictionary."
   ]
  },
  {
   "cell_type": "code",
   "execution_count": 12,
   "id": "b3dc79b4",
   "metadata": {},
   "outputs": [],
   "source": [
    "# 8\n",
    "# Calculating Hurricane Maximum Damage\n",
    "def find_most_damages(damages):\n",
    "    new_damages = []\n",
    "    for damage in damages:\n",
    "        if damage == 'Damages not recorded':\n",
    "            pass\n",
    "        else:\n",
    "            new_damages.append(damage)\n",
    "    most_damages = max(new_damages)\n",
    "    index_most_damages = damages.index(most_damages)\n",
    "    most_damages_cane = names[index_most_damages]\n",
    "    cane_year = years[index_most_damages]\n",
    "    return f\"The hurricane with the most damage is {most_damages_cane} with a total damage of {most_damages} dollars. It happened in the year {cane_year}\"\n",
    "# find highest damage inducing hurricane and its total cost\n"
   ]
  },
  {
   "cell_type": "code",
   "execution_count": 13,
   "id": "8b11e344",
   "metadata": {},
   "outputs": [
    {
     "name": "stdout",
     "output_type": "stream",
     "text": [
      "The hurricane with the most damage is Katrina with a total damage of 125000000000.0 dollars. It happened in the year 2005\n"
     ]
    }
   ],
   "source": [
    "print(find_most_damages(updated_damages))"
   ]
  },
  {
   "cell_type": "markdown",
   "id": "58d22ddc",
   "metadata": {},
   "source": [
    "9. Lastly, you want to rate hurricanes according to how much damage they cause.\n",
    "\n",
    "   Write a function that rates hurricanes on a damage scale according to the following ratings, where the key is the rating and the value is the upper bound of damage for that rating.\n",
    "   ```py\n",
    "   damage_scale = {0: 0,\n",
    "   1: 100000000,\n",
    "   2: 1000000000,\n",
    "   3: 10000000000,\n",
    "   4: 50000000000}\n",
    "   ```\n",
    "   \n",
    "   For example, a hurricane with a `1` damage rating would have resulted in damages greater than `0` USD but less than or equal to `100000000` USD. A hurricane with a `5` damage rating would have resulted in damages greater than `50000000000` USD (talk about a lot of money).\n",
    "   \n",
    "   Store the hurricanes in a new dictionary where the keys are damage ratings and the values are lists containing a dictionary for each hurricane that falls into that damage rating.\n",
    "   \n",
    "   Test your function on your hurricane dictionary."
   ]
  },
  {
   "cell_type": "code",
   "execution_count": 14,
   "id": "e543f487",
   "metadata": {},
   "outputs": [],
   "source": [
    "# 9\n",
    "# Rating Hurricanes by Damage\n",
    "damage_scale = {0: 0,\n",
    "                1: 100000000,\n",
    "                2: 1000000000,\n",
    "                3: 10000000000,\n",
    "                4: 50000000000}\n",
    "integered_damages = []\n",
    "for damage in updated_damages:\n",
    "    if damage == \"Damages not recorded\":\n",
    "        integered_damages.append(damage)\n",
    "    else:\n",
    "        integered_damages.append(float(damage))\n",
    "def damage_rating(damages):\n",
    "    damage_rating_dict = {}\n",
    "    for i in range(6):\n",
    "        damage_rating_dict[i] = []\n",
    "    i = 0\n",
    "    for damage in damages:\n",
    "        if damage == 0 or damage == 'Damages not recorded':\n",
    "            damage_rating_dict[0].append({'Name': names[i], \"Month\": months[i], \"Year\": years[i], \"Max sustained wind\": max_sustained_winds[i], \"Areas affected\": areas_affected[i], \"Damages\": damages[i], \"Deaths\": deaths[i]})\n",
    "        elif 0 < damage < 100000000:\n",
    "            damage_rating_dict[1].append({'Name': names[i], \"Month\": months[i], \"Year\": years[i], \"Max sustained wind\": max_sustained_winds[i], \"Areas affected\": areas_affected[i], \"Damages\": damages[i], \"Deaths\": deaths[i]})\n",
    "        elif 100000000 < damage < 1000000000:\n",
    "            damage_rating_dict[2].append({'Name': names[i], \"Month\": months[i], \"Year\": years[i], \"Max sustained wind\": max_sustained_winds[i], \"Areas affected\": areas_affected[i], \"Damages\": damages[i], \"Deaths\": deaths[i]})\n",
    "        elif 1000000000 < damage < 10000000000:\n",
    "            damage_rating_dict[3].append({'Name': names[i], \"Month\": months[i], \"Year\": years[i], \"Max sustained wind\": max_sustained_winds[i], \"Areas affected\": areas_affected[i], \"Damages\": damages[i], \"Deaths\": deaths[i]})\n",
    "        elif 10000000000 < damage < 50000000000:\n",
    "            damage_rating_dict[4].append({'Name': names[i], \"Month\": months[i], \"Year\": years[i], \"Max sustained wind\": max_sustained_winds[i], \"Areas affected\": areas_affected[i], \"Damages\": damages[i], \"Deaths\": deaths[i]})\n",
    "        else:\n",
    "            damage_rating_dict[5].append({'Name': names[i], \"Month\": months[i], \"Year\": years[i], \"Max sustained wind\": max_sustained_winds[i], \"Areas affected\": areas_affected[i], \"Damages\": damages[i], \"Deaths\": deaths[i]})\n",
    "        i += 1\n",
    "    return damage_rating_dict\n",
    "\n",
    "# categorize hurricanes in new dictionary with damage severity as key\n"
   ]
  },
  {
   "cell_type": "code",
   "execution_count": 15,
   "id": "226b6b2f",
   "metadata": {},
   "outputs": [
    {
     "name": "stdout",
     "output_type": "stream",
     "text": [
      "['Damages not recorded', 100000000.0, 'Damages not recorded', 40000000.0, 27900000.0, 5000000.0, 'Damages not recorded', 306000000.0, 2000000.0, 65800000.0, 326000000.0, 60300000.0, 208000000.0, 1420000000.0, 25400000.0, 'Damages not recorded', 1540000000.0, 1240000000.0, 7100000000.0, 10000000000.0, 26500000000.0, 6200000000.0, 5370000000.0, 23300000000.0, 1010000000.0, 125000000000.0, 12000000000.0, 29400000000.0, 1760000000.0, 720000000.0, 15100000000.0, 64800000000.0, 91600000000.0, 25100000000.0]\n"
     ]
    }
   ],
   "source": [
    "print(integered_damages)"
   ]
  },
  {
   "cell_type": "code",
   "execution_count": 20,
   "id": "a7cd3533",
   "metadata": {
    "scrolled": true
   },
   "outputs": [
    {
     "name": "stdout",
     "output_type": "stream",
     "text": [
      "{'Name': 'New England', 'Month': 'September', 'Year': 1938, 'Max sustained wind': 160, 'Areas affected': ['Southeastern United States', 'Northeastern United States', 'Southwestern Quebec'], 'Damages': 306000000.0, 'Deaths': 682}\n",
      "{'Name': 'Carla', 'Month': 'September', 'Year': 1961, 'Max sustained wind': 175, 'Areas affected': ['Texas', 'Louisiana', 'Midwestern United States'], 'Damages': 326000000.0, 'Deaths': 43}\n",
      "{'Name': 'Beulah', 'Month': 'September', 'Year': 1967, 'Max sustained wind': 160, 'Areas affected': ['The Caribbean', 'Mexico', 'Texas'], 'Damages': 208000000.0, 'Deaths': 688}\n",
      "{'Name': 'Felix', 'Month': 'September', 'Year': 2007, 'Max sustained wind': 175, 'Areas affected': ['Nicaragua', 'Honduras'], 'Damages': 720000000.0, 'Deaths': 133}\n"
     ]
    }
   ],
   "source": [
    "damages_ratings = damage_rating(integered_damages)\n",
    "for values in damages_ratings[2]:\n",
    "    print(values)"
   ]
  },
  {
   "cell_type": "markdown",
   "id": "928c5fd2",
   "metadata": {},
   "source": [
    "## Solution"
   ]
  },
  {
   "cell_type": "markdown",
   "id": "252616a3",
   "metadata": {},
   "source": [
    "Great work! View the **Hurricane Analysis_Solution.ipynb** file or visit [our forums](https://discuss.codecademy.com/t/hurricane-analysis-challenge-project-python/462363) to compare your project to our sample solution code. You can also learn how to host your own solution on GitHub so you can share it with other learners! Your solution might look different than ours, and that's okay! There are multiple ways to solve these projects, and you'll learn more by seeing others' code."
   ]
  },
  {
   "cell_type": "code",
   "execution_count": null,
   "id": "da8f7141",
   "metadata": {},
   "outputs": [],
   "source": []
  }
 ],
 "metadata": {
  "kernelspec": {
   "display_name": "Python 3 (ipykernel)",
   "language": "python",
   "name": "python3"
  },
  "language_info": {
   "codemirror_mode": {
    "name": "ipython",
    "version": 3
   },
   "file_extension": ".py",
   "mimetype": "text/x-python",
   "name": "python",
   "nbconvert_exporter": "python",
   "pygments_lexer": "ipython3",
   "version": "3.10.9"
  },
  "vscode": {
   "interpreter": {
    "hash": "b784193cf0f9970b27f3c12f21dbff8ed97e3cf923dc23fe210654173bc3fdd0"
   }
  }
 },
 "nbformat": 4,
 "nbformat_minor": 5
}
